{
  "nbformat": 4,
  "nbformat_minor": 0,
  "metadata": {
    "colab": {
      "provenance": [],
      "authorship_tag": "ABX9TyPawsEDHQfNEBS+Ci3FSL87",
      "include_colab_link": true
    },
    "kernelspec": {
      "name": "python3",
      "display_name": "Python 3"
    },
    "language_info": {
      "name": "python"
    }
  },
  "cells": [
    {
      "cell_type": "markdown",
      "metadata": {
        "id": "view-in-github",
        "colab_type": "text"
      },
      "source": [
        "<a href=\"https://colab.research.google.com/github/ThangadipallyShravani/CODSOFT/blob/ss49/rock_paper_scissors.ipynb\" target=\"_parent\"><img src=\"https://colab.research.google.com/assets/colab-badge.svg\" alt=\"Open In Colab\"/></a>"
      ]
    },
    {
      "cell_type": "code",
      "execution_count": 16,
      "metadata": {
        "colab": {
          "base_uri": "https://localhost:8080/"
        },
        "id": "YCKis0EN7xm-",
        "outputId": "ebeede01-bea1-458e-c067-acb0cf6a1345"
      },
      "outputs": [
        {
          "output_type": "stream",
          "name": "stdout",
          "text": [
            "Enter your choice (rock, paper, scissors): rock\n",
            "your choice: rock\n",
            "Computer choice: paper\n",
            "Result: Computer wins!\n",
            "Do you want to play again? (yes/no): yes\n",
            "Enter your choice (rock, paper, scissors): rock\n",
            "your choice: rock\n",
            "Computer choice: scissors\n",
            "Result: you win!\n",
            "Do you want to play again? (yes/no): no\n",
            "Thanks for playing!\n"
          ]
        }
      ],
      "source": [
        "import random\n",
        "\n",
        "def rock_paper_scissors(your_choice):\n",
        "    choices = ['rock', 'paper', 'scissors']\n",
        "    computer_choice = random.choice(choices)\n",
        "\n",
        "    print(\"your choice:\", your_choice)\n",
        "    print(\"Computer choice:\", computer_choice)\n",
        "\n",
        "    if your_choice == computer_choice:\n",
        "        return \"It's a tie!\"\n",
        "    elif (your_choice == 'rock' and computer_choice == 'scissors'):\n",
        "        return \"you win!\"\n",
        "    elif (your_choice == 'paper' and computer_choice == 'rock'):\n",
        "        return \"you win!\"\n",
        "    elif (your_choice == 'scissors' and computer_choice == 'paper'):\n",
        "        return \"you win!\"\n",
        "    else:\n",
        "        return \"Computer wins!\"\n",
        "\n",
        "def play_game():\n",
        "  while True:\n",
        "    next_choice = input(\"Enter your choice (rock, paper, scissors): \").lower()\n",
        "    result = rock_paper_scissors(next_choice)\n",
        "    print(\"Result:\", result)\n",
        "    play_again = input(\"Do you want to play again? (yes/no): \").lower()\n",
        "    if play_again != 'yes':\n",
        "       print(\"Thanks for playing!\")\n",
        "       break\n",
        "\n",
        "play_game()"
      ]
    }
  ]
}