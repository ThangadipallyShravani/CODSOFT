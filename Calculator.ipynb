{
  "nbformat": 4,
  "nbformat_minor": 0,
  "metadata": {
    "colab": {
      "provenance": [],
      "authorship_tag": "ABX9TyO09ydymZ+HV6Y8vU8iNrru",
      "include_colab_link": true
    },
    "kernelspec": {
      "name": "python3",
      "display_name": "Python 3"
    },
    "language_info": {
      "name": "python"
    }
  },
  "cells": [
    {
      "cell_type": "markdown",
      "metadata": {
        "id": "view-in-github",
        "colab_type": "text"
      },
      "source": [
        "<a href=\"https://colab.research.google.com/github/ThangadipallyShravani/CODSOFT/blob/ss49/Calculator.ipynb\" target=\"_parent\"><img src=\"https://colab.research.google.com/assets/colab-badge.svg\" alt=\"Open In Colab\"/></a>"
      ]
    },
    {
      "cell_type": "code",
      "execution_count": 1,
      "metadata": {
        "id": "UQVQ5WEfwQPr",
        "colab": {
          "base_uri": "https://localhost:8080/"
        },
        "outputId": "1d6c97aa-1c66-4ceb-d262-1e888929e1ce"
      },
      "outputs": [
        {
          "output_type": "stream",
          "name": "stdout",
          "text": [
            "Enter the 1st number 10\n",
            "Enter the 2nd number 20\n",
            "enter the operation (add,subtract, multiply, divide, percentage): add\n",
            "Result:  30.0\n"
          ]
        }
      ],
      "source": [
        "#prompt the user to input two numbers &the operation choice\n",
        "num1=float(input(\"Enter the 1st number \"))\n",
        "num2=float(input(\"Enter the 2nd number \"))\n",
        "operation=input(\"enter the operation (add,subtract, multiply, divide, percentage): \").strip().lower()\n",
        "#performing the calculations\n",
        "if operation == \"add\":\n",
        "   result = num1 + num2\n",
        "elif operation == \"subtract\":\n",
        "   result = num1 - num2\n",
        "elif operation == \"multiply\":\n",
        "   result = num1 * num2\n",
        "elif operation == \"divide\":\n",
        "   result = num1 / num2\n",
        "elif operation == \"percentage\":\n",
        "   result = num1 % num2\n",
        "else:\n",
        "  result = \"invalid choice , please choose add,subtract,multiply or divide\"\n",
        "#display the result\n",
        "print(\"Result: \", result)"
      ]
    }
  ]
}