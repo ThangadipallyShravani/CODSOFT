{
  "nbformat": 4,
  "nbformat_minor": 0,
  "metadata": {
    "colab": {
      "provenance": [],
      "authorship_tag": "ABX9TyMZOWir1lC2t3cdRWHrLWYm",
      "include_colab_link": true
    },
    "kernelspec": {
      "name": "python3",
      "display_name": "Python 3"
    },
    "language_info": {
      "name": "python"
    }
  },
  "cells": [
    {
      "cell_type": "markdown",
      "metadata": {
        "id": "view-in-github",
        "colab_type": "text"
      },
      "source": [
        "<a href=\"https://colab.research.google.com/github/ThangadipallyShravani/CODSOFT/blob/ss49/Password_generator.ipynb\" target=\"_parent\"><img src=\"https://colab.research.google.com/assets/colab-badge.svg\" alt=\"Open In Colab\"/></a>"
      ]
    },
    {
      "cell_type": "code",
      "execution_count": 14,
      "metadata": {
        "colab": {
          "base_uri": "https://localhost:8080/"
        },
        "id": "RbxGEZ06cSp6",
        "outputId": "14e705dd-50db-44ac-8a86-6e29612dbe0e"
      },
      "outputs": [
        {
          "output_type": "stream",
          "name": "stdout",
          "text": [
            "Enter the desired password length (minimum 6): 6\n",
            "Generated password:  nG3&+K\n"
          ]
        }
      ],
      "source": [
        "\n",
        "import random\n",
        "import string\n",
        "\n",
        "def generating_password(length):\n",
        "    # Define the character sets\n",
        "    lower = string.ascii_lowercase\n",
        "    upper = string.ascii_uppercase\n",
        "    special = string.punctuation\n",
        "    digits = string.digits\n",
        "\n",
        "    # Combining the character sets\n",
        "    all_characters = lower + upper + special + digits\n",
        "\n",
        "    # The password must have at least one character from each set\n",
        "    password = [\n",
        "        random.choice(lower),\n",
        "        random.choice(upper),\n",
        "        random.choice(special),\n",
        "        random.choice(digits)\n",
        "    ]\n",
        "\n",
        "    # Adding random characters from the combined set until the desired length is reached\n",
        "    password += random.choices(all_characters, k=length-4)\n",
        "\n",
        "    # Shuffle the resulting password to ensure randomness\n",
        "    random.shuffle(password)\n",
        "\n",
        "    # Convert list to string\n",
        "    return ''.join(password)\n",
        "\n",
        "def main():\n",
        "    # Get the desired password length from the user\n",
        "    while True:\n",
        "        try:\n",
        "            password_length = int(input(\"Enter the desired password length (minimum 6): \"))\n",
        "            if password_length < 6:\n",
        "                print(\"Password length should be at least 6 characters!\")\n",
        "            else:\n",
        "                break\n",
        "        except ValueError:\n",
        "            print(\"Please enter a valid number.\")\n",
        "\n",
        "    # Generate the password\n",
        "    password = generating_password(password_length)\n",
        "\n",
        "    # Display the generated password\n",
        "    print(\"Generated password: \", password)\n",
        "\n",
        "if __name__ == \"__main__\":\n",
        "    main()"
      ]
    }
  ]
}